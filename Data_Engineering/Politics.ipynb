{
 "cells": [
  {
   "cell_type": "code",
   "execution_count": 71,
   "metadata": {},
   "outputs": [],
   "source": [
    "import pyspark"
   ]
  },
  {
   "cell_type": "code",
   "execution_count": 72,
   "metadata": {},
   "outputs": [],
   "source": [
    "from pyspark.sql import *\n",
    "from pyspark.sql import SparkSession"
   ]
  },
  {
   "cell_type": "code",
   "execution_count": 73,
   "metadata": {},
   "outputs": [],
   "source": [
    "import json"
   ]
  },
  {
   "cell_type": "code",
   "execution_count": 74,
   "metadata": {},
   "outputs": [],
   "source": [
    "import hashlib"
   ]
  },
  {
   "cell_type": "code",
   "execution_count": 75,
   "metadata": {},
   "outputs": [],
   "source": [
    "f = open('donation_np.json')\n",
    "data = json.load(f)"
   ]
  },
  {
   "cell_type": "code",
   "execution_count": 76,
   "metadata": {},
   "outputs": [],
   "source": [
    "spark = SparkSession \\\n",
    "    .builder \\\n",
    "    .appName(\"Python Spark Donation \") \\\n",
    "    .config(\"spark.some.config.option\", \"some-value\") \\\n",
    "    .getOrCreate()"
   ]
  },
  {
   "cell_type": "code",
   "execution_count": 77,
   "metadata": {},
   "outputs": [
    {
     "name": "stdout",
     "output_type": "stream",
     "text": [
      "root\n",
      " |-- Address: string (nullable = true)\n",
      " |-- Amount: string (nullable = true)\n",
      " |-- Contribution Mode: string (nullable = true)\n",
      " |-- Financial Year: string (nullable = true)\n",
      " |-- Name: string (nullable = true)\n",
      " |-- PAN Given: string (nullable = true)\n",
      " |-- Party: string (nullable = true)\n",
      " |-- Type: string (nullable = true)\n",
      " |-- _corrupt_record: string (nullable = true)\n",
      " |-- field10: string (nullable = true)\n",
      " |-- field11: string (nullable = true)\n",
      " |-- field12: string (nullable = true)\n",
      " |-- field13: string (nullable = true)\n",
      " |-- field14: string (nullable = true)\n",
      " |-- field9: string (nullable = true)\n",
      "\n",
      "+--------------------+--------+--------------------+--------------+--------------------+---------+------+------+---------------+-------+-------+-------+-------+-------+------+\n",
      "|             Address|  Amount|   Contribution Mode|Financial Year|                Name|PAN Given| Party|  Type|_corrupt_record|field10|field11|field12|field13|field14|field9|\n",
      "+--------------------+--------+--------------------+--------------+--------------------+---------+------+------+---------------+-------+-------+-------+-------+-------+------+\n",
      "|                null|    null|                null|          null|                null|     null|  null|  null|              [|   null|   null|   null|   null|   null|  null|\n",
      "|16-B, Ferozeshah ...| 3000000|                CASH|       2010-11|          Aziz Pasha|        Y|   CPI|Others|           null|       |       |       |       |       |      |\n",
      "|No.1, First Floor...|10000000|000037, HDFC Bank...|       2014-15|    V K Ramachandran|        Y|CPI(M)|Others|           null|       |       |       |       |       |      |\n",
      "|3, Motilal Nehru ...|  108000|Cheque, State Ban...|       2014-15|  Dr. Manmohan Singh|        N|   INC|Others|           null|       |       |       |       |       |      |\n",
      "|9,Firozshah Road ...|   54000|Through Bank Tran...|       2011-12| Dr. Manda Jagnathan|        N|   INC|Others|           null|       |       |       |       |       |      |\n",
      "|17,Dr.B.R.Mehta L...|   54000|Through Bank Tran...|       2011-12|    Prof. K.V.Thomas|        N|   INC|Others|           null|       |       |       |       |       |      |\n",
      "|31 Shamla Hills B...|  100000|          146865 SBI|       2011-12|     Sweta Chyouksey|        Y|   BJP|Others|           null|       |       |       |       |       |      |\n",
      "|45 Bunglows Bhopa...|  100000|          994966 SBI|       2011-12|   Uma Shankar Gupta|        N|   BJP|Others|           null|       |       |       |       |       |      |\n",
      "|                  --|   25000|14021,  Union Ban...|       2013-14|Parshwanath Bhakt...|        N|   BJP|Others|           null|       |       |       |       |       |      |\n",
      "|9 Santoshi Ayodhy...|  100000|          168278 SBI|       2011-12|Anand Constructio...|        Y|   BJP|Others|           null|       |       |       |       |       |      |\n",
      "|197, North Avenue...|   54000|       Bank Transfer|       2013-14|       Kamal Kashore|        N|   INC|Others|           null|       |       |       |       |       |      |\n",
      "|              Mumbai|  100000|955592 Bank Of In...|       2004-05|          R.V Pandit|        N|   BJP|Others|           null|       |       |       |       |       |      |\n",
      "|                  --|  100000|              430969|       2012-13|      A & T Infracon|        N|   BJP|Others|           null|       |       |       |       |       |      |\n",
      "|G/3 Phonix Buildi...|  300000|Cheque No.884045 ...|       2008-09|A 2 Z online  Ser...|        N|   BJP|Others|           null|       |       |       |       |       |      |\n",
      "|G/3 Phonix Buildi...|  200000|Cheque No-  88404...|       2008-09|A 2 Z online  Ser...|        N|   BJP|Others|           null|       |       |       |       |       |      |\n",
      "|G/3 Phonix Buildi...|  200000|Cheque No-  88404...|       2008-09|A 2 Z online  Ser...|        N|   BJP|Others|           null|       |       |       |       |       |      |\n",
      "|                  --|  125000|952450, Saraswat ...|       2012-13|A B Rolling Mills...|        N|   BJP|Others|           null|       |       |       |       |       |      |\n",
      "|82, Narbada Road ...|  100000|72437 Allahabad Bank|       2011-12|           A C Dixit|        N|   BJP|Others|           null|       |       |       |       |       |      |\n",
      "|S.F.S. Tirupati A...|  100000|174993, Union Ban...|       2014-15|        A D Builders|        Y|   BJP|Others|           null|       |       |       |       |       |      |\n",
      "|                  --|   21000|            234, BOI|       2012-13|               A Fox|        N|   BJP|Others|           null|       |       |       |       |       |      |\n",
      "+--------------------+--------+--------------------+--------------+--------------------+---------+------+------+---------------+-------+-------+-------+-------+-------+------+\n",
      "only showing top 20 rows\n",
      "\n"
     ]
    }
   ],
   "source": [
    "df = spark.read.json(\"donation_np.json\")\n",
    "df.printSchema()\n",
    "df.show()"
   ]
  },
  {
   "cell_type": "code",
   "execution_count": 78,
   "metadata": {},
   "outputs": [],
   "source": [
    "df = df.withColumnRenamed(\"Contribution Mode\",\"mode_of_payment\").withColumnRenamed(\"Financial Year\",\"fin_year\").withColumnRenamed(\"PAN Given\",\"pan_given\")"
   ]
  },
  {
   "cell_type": "code",
   "execution_count": 79,
   "metadata": {},
   "outputs": [
    {
     "name": "stdout",
     "output_type": "stream",
     "text": [
      "+--------------------+--------+--------------------+--------+--------------------+---------+------+------+---------------+-------+-------+-------+-------+-------+------+\n",
      "|             Address|  Amount|     mode_of_payment|fin_year|                Name|pan_given| Party|  Type|_corrupt_record|field10|field11|field12|field13|field14|field9|\n",
      "+--------------------+--------+--------------------+--------+--------------------+---------+------+------+---------------+-------+-------+-------+-------+-------+------+\n",
      "|                null|    null|                null|    null|                null|     null|  null|  null|              [|   null|   null|   null|   null|   null|  null|\n",
      "|16-B, Ferozeshah ...| 3000000|                CASH| 2010-11|          Aziz Pasha|        Y|   CPI|Others|           null|       |       |       |       |       |      |\n",
      "|No.1, First Floor...|10000000|000037, HDFC Bank...| 2014-15|    V K Ramachandran|        Y|CPI(M)|Others|           null|       |       |       |       |       |      |\n",
      "|3, Motilal Nehru ...|  108000|Cheque, State Ban...| 2014-15|  Dr. Manmohan Singh|        N|   INC|Others|           null|       |       |       |       |       |      |\n",
      "|9,Firozshah Road ...|   54000|Through Bank Tran...| 2011-12| Dr. Manda Jagnathan|        N|   INC|Others|           null|       |       |       |       |       |      |\n",
      "|17,Dr.B.R.Mehta L...|   54000|Through Bank Tran...| 2011-12|    Prof. K.V.Thomas|        N|   INC|Others|           null|       |       |       |       |       |      |\n",
      "|31 Shamla Hills B...|  100000|          146865 SBI| 2011-12|     Sweta Chyouksey|        Y|   BJP|Others|           null|       |       |       |       |       |      |\n",
      "|45 Bunglows Bhopa...|  100000|          994966 SBI| 2011-12|   Uma Shankar Gupta|        N|   BJP|Others|           null|       |       |       |       |       |      |\n",
      "|                  --|   25000|14021,  Union Ban...| 2013-14|Parshwanath Bhakt...|        N|   BJP|Others|           null|       |       |       |       |       |      |\n",
      "|9 Santoshi Ayodhy...|  100000|          168278 SBI| 2011-12|Anand Constructio...|        Y|   BJP|Others|           null|       |       |       |       |       |      |\n",
      "|197, North Avenue...|   54000|       Bank Transfer| 2013-14|       Kamal Kashore|        N|   INC|Others|           null|       |       |       |       |       |      |\n",
      "|              Mumbai|  100000|955592 Bank Of In...| 2004-05|          R.V Pandit|        N|   BJP|Others|           null|       |       |       |       |       |      |\n",
      "|                  --|  100000|              430969| 2012-13|      A & T Infracon|        N|   BJP|Others|           null|       |       |       |       |       |      |\n",
      "|G/3 Phonix Buildi...|  300000|Cheque No.884045 ...| 2008-09|A 2 Z online  Ser...|        N|   BJP|Others|           null|       |       |       |       |       |      |\n",
      "|G/3 Phonix Buildi...|  200000|Cheque No-  88404...| 2008-09|A 2 Z online  Ser...|        N|   BJP|Others|           null|       |       |       |       |       |      |\n",
      "|G/3 Phonix Buildi...|  200000|Cheque No-  88404...| 2008-09|A 2 Z online  Ser...|        N|   BJP|Others|           null|       |       |       |       |       |      |\n",
      "|                  --|  125000|952450, Saraswat ...| 2012-13|A B Rolling Mills...|        N|   BJP|Others|           null|       |       |       |       |       |      |\n",
      "|82, Narbada Road ...|  100000|72437 Allahabad Bank| 2011-12|           A C Dixit|        N|   BJP|Others|           null|       |       |       |       |       |      |\n",
      "|S.F.S. Tirupati A...|  100000|174993, Union Ban...| 2014-15|        A D Builders|        Y|   BJP|Others|           null|       |       |       |       |       |      |\n",
      "|                  --|   21000|            234, BOI| 2012-13|               A Fox|        N|   BJP|Others|           null|       |       |       |       |       |      |\n",
      "+--------------------+--------+--------------------+--------+--------------------+---------+------+------+---------------+-------+-------+-------+-------+-------+------+\n",
      "only showing top 20 rows\n",
      "\n"
     ]
    }
   ],
   "source": [
    "df.show()"
   ]
  },
  {
   "cell_type": "code",
   "execution_count": 80,
   "metadata": {},
   "outputs": [
    {
     "name": "stdout",
     "output_type": "stream",
     "text": [
      "+--------------------+--------+--------------------+--------+--------------------+---------+------+------+---------------+-------+-------+-------+-------+-------+------+\n",
      "|             Address|  Amount|     mode_of_payment|fin_year|                Name|pan_given| Party|  Type|_corrupt_record|field10|field11|field12|field13|field14|field9|\n",
      "+--------------------+--------+--------------------+--------+--------------------+---------+------+------+---------------+-------+-------+-------+-------+-------+------+\n",
      "|e3b0c44298fc1c149...|    null|                null|    null|                null|     null|  null|  null|              [|   null|   null|   null|   null|   null|  null|\n",
      "|5a3058deb6f337958...| 3000000|                CASH| 2010-11|          Aziz Pasha|        Y|   CPI|Others|           null|       |       |       |       |       |      |\n",
      "|846539cb21bc9e6c6...|10000000|000037, HDFC Bank...| 2014-15|    V K Ramachandran|        Y|CPI(M)|Others|           null|       |       |       |       |       |      |\n",
      "|869fa3a19f1c51ad1...|  108000|Cheque, State Ban...| 2014-15|  Dr. Manmohan Singh|        N|   INC|Others|           null|       |       |       |       |       |      |\n",
      "|5f04f40130569ddab...|   54000|Through Bank Tran...| 2011-12| Dr. Manda Jagnathan|        N|   INC|Others|           null|       |       |       |       |       |      |\n",
      "|524b1379d08e4c02f...|   54000|Through Bank Tran...| 2011-12|    Prof. K.V.Thomas|        N|   INC|Others|           null|       |       |       |       |       |      |\n",
      "|6db7af0c5dca3b333...|  100000|          146865 SBI| 2011-12|     Sweta Chyouksey|        Y|   BJP|Others|           null|       |       |       |       |       |      |\n",
      "|c01158e07376c3778...|  100000|          994966 SBI| 2011-12|   Uma Shankar Gupta|        N|   BJP|Others|           null|       |       |       |       |       |      |\n",
      "|d8156bae0c4243d37...|   25000|14021,  Union Ban...| 2013-14|Parshwanath Bhakt...|        N|   BJP|Others|           null|       |       |       |       |       |      |\n",
      "|15c64efe58b209e20...|  100000|          168278 SBI| 2011-12|Anand Constructio...|        Y|   BJP|Others|           null|       |       |       |       |       |      |\n",
      "|c8087c832dde2a1c4...|   54000|       Bank Transfer| 2013-14|       Kamal Kashore|        N|   INC|Others|           null|       |       |       |       |       |      |\n",
      "|9f2ba6981e36ea0fc...|  100000|955592 Bank Of In...| 2004-05|          R.V Pandit|        N|   BJP|Others|           null|       |       |       |       |       |      |\n",
      "|d8156bae0c4243d37...|  100000|              430969| 2012-13|      A & T Infracon|        N|   BJP|Others|           null|       |       |       |       |       |      |\n",
      "|9ed075605230cbb74...|  300000|Cheque No.884045 ...| 2008-09|A 2 Z online  Ser...|        N|   BJP|Others|           null|       |       |       |       |       |      |\n",
      "|4bc59ca1c387bfd59...|  200000|Cheque No-  88404...| 2008-09|A 2 Z online  Ser...|        N|   BJP|Others|           null|       |       |       |       |       |      |\n",
      "|4bc59ca1c387bfd59...|  200000|Cheque No-  88404...| 2008-09|A 2 Z online  Ser...|        N|   BJP|Others|           null|       |       |       |       |       |      |\n",
      "|d8156bae0c4243d37...|  125000|952450, Saraswat ...| 2012-13|A B Rolling Mills...|        N|   BJP|Others|           null|       |       |       |       |       |      |\n",
      "|a68f3334fbfbdf18b...|  100000|72437 Allahabad Bank| 2011-12|           A C Dixit|        N|   BJP|Others|           null|       |       |       |       |       |      |\n",
      "|e9552141c8f9ab365...|  100000|174993, Union Ban...| 2014-15|        A D Builders|        Y|   BJP|Others|           null|       |       |       |       |       |      |\n",
      "|d8156bae0c4243d37...|   21000|            234, BOI| 2012-13|               A Fox|        N|   BJP|Others|           null|       |       |       |       |       |      |\n",
      "+--------------------+--------+--------------------+--------+--------------------+---------+------+------+---------------+-------+-------+-------+-------+-------+------+\n",
      "only showing top 20 rows\n",
      "\n"
     ]
    }
   ],
   "source": [
    "from pyspark.sql.functions import sha2, concat_ws\n",
    "df = df.withColumn(\"Address\", sha2(concat_ws(\"||\", \"Address\"), 256))\n",
    "df.show()"
   ]
  },
  {
   "cell_type": "code",
   "execution_count": 81,
   "metadata": {},
   "outputs": [],
   "source": [
    "df = df.drop(\"_corrupt_record\",\"field10\",\"field11\",\"field12\",\"field13\",\"field14\",\"field9\")"
   ]
  },
  {
   "cell_type": "code",
   "execution_count": 82,
   "metadata": {},
   "outputs": [
    {
     "name": "stdout",
     "output_type": "stream",
     "text": [
      "+--------------------+--------+--------------------+--------+--------------------+---------+------+------+\n",
      "|             Address|  Amount|     mode_of_payment|fin_year|                Name|pan_given| Party|  Type|\n",
      "+--------------------+--------+--------------------+--------+--------------------+---------+------+------+\n",
      "|e3b0c44298fc1c149...|    null|                null|    null|                null|     null|  null|  null|\n",
      "|5a3058deb6f337958...| 3000000|                CASH| 2010-11|          Aziz Pasha|        Y|   CPI|Others|\n",
      "|846539cb21bc9e6c6...|10000000|000037, HDFC Bank...| 2014-15|    V K Ramachandran|        Y|CPI(M)|Others|\n",
      "|869fa3a19f1c51ad1...|  108000|Cheque, State Ban...| 2014-15|  Dr. Manmohan Singh|        N|   INC|Others|\n",
      "|5f04f40130569ddab...|   54000|Through Bank Tran...| 2011-12| Dr. Manda Jagnathan|        N|   INC|Others|\n",
      "|524b1379d08e4c02f...|   54000|Through Bank Tran...| 2011-12|    Prof. K.V.Thomas|        N|   INC|Others|\n",
      "|6db7af0c5dca3b333...|  100000|          146865 SBI| 2011-12|     Sweta Chyouksey|        Y|   BJP|Others|\n",
      "|c01158e07376c3778...|  100000|          994966 SBI| 2011-12|   Uma Shankar Gupta|        N|   BJP|Others|\n",
      "|d8156bae0c4243d37...|   25000|14021,  Union Ban...| 2013-14|Parshwanath Bhakt...|        N|   BJP|Others|\n",
      "|15c64efe58b209e20...|  100000|          168278 SBI| 2011-12|Anand Constructio...|        Y|   BJP|Others|\n",
      "|c8087c832dde2a1c4...|   54000|       Bank Transfer| 2013-14|       Kamal Kashore|        N|   INC|Others|\n",
      "|9f2ba6981e36ea0fc...|  100000|955592 Bank Of In...| 2004-05|          R.V Pandit|        N|   BJP|Others|\n",
      "|d8156bae0c4243d37...|  100000|              430969| 2012-13|      A & T Infracon|        N|   BJP|Others|\n",
      "|9ed075605230cbb74...|  300000|Cheque No.884045 ...| 2008-09|A 2 Z online  Ser...|        N|   BJP|Others|\n",
      "|4bc59ca1c387bfd59...|  200000|Cheque No-  88404...| 2008-09|A 2 Z online  Ser...|        N|   BJP|Others|\n",
      "|4bc59ca1c387bfd59...|  200000|Cheque No-  88404...| 2008-09|A 2 Z online  Ser...|        N|   BJP|Others|\n",
      "|d8156bae0c4243d37...|  125000|952450, Saraswat ...| 2012-13|A B Rolling Mills...|        N|   BJP|Others|\n",
      "|a68f3334fbfbdf18b...|  100000|72437 Allahabad Bank| 2011-12|           A C Dixit|        N|   BJP|Others|\n",
      "|e9552141c8f9ab365...|  100000|174993, Union Ban...| 2014-15|        A D Builders|        Y|   BJP|Others|\n",
      "|d8156bae0c4243d37...|   21000|            234, BOI| 2012-13|               A Fox|        N|   BJP|Others|\n",
      "+--------------------+--------+--------------------+--------+--------------------+---------+------+------+\n",
      "only showing top 20 rows\n",
      "\n"
     ]
    }
   ],
   "source": [
    "df.show()"
   ]
  },
  {
   "cell_type": "code",
   "execution_count": 83,
   "metadata": {},
   "outputs": [
    {
     "name": "stdout",
     "output_type": "stream",
     "text": [
      "+--------------------+--------+--------------------+--------+--------------------+---------+------+------+\n",
      "|             Address|  Amount|     mode_of_payment|fin_year|                Name|pan_given| Party|  Type|\n",
      "+--------------------+--------+--------------------+--------+--------------------+---------+------+------+\n",
      "|5a3058deb6f337958...| 3000000|                CASH| 2010-11|          Aziz Pasha|        Y|   CPI|Others|\n",
      "|846539cb21bc9e6c6...|10000000|000037, HDFC Bank...| 2014-15|    V K Ramachandran|        Y|CPI(M)|Others|\n",
      "|869fa3a19f1c51ad1...|  108000|Cheque, State Ban...| 2014-15|  Dr. Manmohan Singh|        N|   INC|Others|\n",
      "|5f04f40130569ddab...|   54000|Through Bank Tran...| 2011-12| Dr. Manda Jagnathan|        N|   INC|Others|\n",
      "|524b1379d08e4c02f...|   54000|Through Bank Tran...| 2011-12|    Prof. K.V.Thomas|        N|   INC|Others|\n",
      "|6db7af0c5dca3b333...|  100000|          146865 SBI| 2011-12|     Sweta Chyouksey|        Y|   BJP|Others|\n",
      "|c01158e07376c3778...|  100000|          994966 SBI| 2011-12|   Uma Shankar Gupta|        N|   BJP|Others|\n",
      "|d8156bae0c4243d37...|   25000|14021,  Union Ban...| 2013-14|Parshwanath Bhakt...|        N|   BJP|Others|\n",
      "|15c64efe58b209e20...|  100000|          168278 SBI| 2011-12|Anand Constructio...|        Y|   BJP|Others|\n",
      "|c8087c832dde2a1c4...|   54000|       Bank Transfer| 2013-14|       Kamal Kashore|        N|   INC|Others|\n",
      "|9f2ba6981e36ea0fc...|  100000|955592 Bank Of In...| 2004-05|          R.V Pandit|        N|   BJP|Others|\n",
      "|d8156bae0c4243d37...|  100000|              430969| 2012-13|      A & T Infracon|        N|   BJP|Others|\n",
      "|9ed075605230cbb74...|  300000|Cheque No.884045 ...| 2008-09|A 2 Z online  Ser...|        N|   BJP|Others|\n",
      "|4bc59ca1c387bfd59...|  200000|Cheque No-  88404...| 2008-09|A 2 Z online  Ser...|        N|   BJP|Others|\n",
      "|4bc59ca1c387bfd59...|  200000|Cheque No-  88404...| 2008-09|A 2 Z online  Ser...|        N|   BJP|Others|\n",
      "|d8156bae0c4243d37...|  125000|952450, Saraswat ...| 2012-13|A B Rolling Mills...|        N|   BJP|Others|\n",
      "|a68f3334fbfbdf18b...|  100000|72437 Allahabad Bank| 2011-12|           A C Dixit|        N|   BJP|Others|\n",
      "|e9552141c8f9ab365...|  100000|174993, Union Ban...| 2014-15|        A D Builders|        Y|   BJP|Others|\n",
      "|d8156bae0c4243d37...|   21000|            234, BOI| 2012-13|               A Fox|        N|   BJP|Others|\n",
      "|6f87e5d7cdf08271c...|  100000|Ch. No. 62063/dtd...| 2009-10|A Mahendra Jewellers|        Y|   INC|Others|\n",
      "+--------------------+--------+--------------------+--------+--------------------+---------+------+------+\n",
      "only showing top 20 rows\n",
      "\n"
     ]
    }
   ],
   "source": [
    "df = df.where(df.Name.isNotNull())\n",
    "df.show()"
   ]
  },
  {
   "cell_type": "code",
   "execution_count": 84,
   "metadata": {},
   "outputs": [],
   "source": [
    "from pyspark.sql.functions import lower, col, when,lit\n",
    "df = df.withColumn(\"mode_of_payment\", lower(col(\"mode_of_payment\")))"
   ]
  },
  {
   "cell_type": "code",
   "execution_count": 85,
   "metadata": {},
   "outputs": [
    {
     "name": "stdout",
     "output_type": "stream",
     "text": [
      "+--------------------+--------+--------------------+--------+--------------------+---------+------+------+\n",
      "|             Address|  Amount|     mode_of_payment|fin_year|                Name|pan_given| Party|  Type|\n",
      "+--------------------+--------+--------------------+--------+--------------------+---------+------+------+\n",
      "|5a3058deb6f337958...| 3000000|                cash| 2010-11|          Aziz Pasha|        Y|   CPI|Others|\n",
      "|846539cb21bc9e6c6...|10000000|000037, hdfc bank...| 2014-15|    V K Ramachandran|        Y|CPI(M)|Others|\n",
      "|869fa3a19f1c51ad1...|  108000|cheque, state ban...| 2014-15|  Dr. Manmohan Singh|        N|   INC|Others|\n",
      "|5f04f40130569ddab...|   54000|through bank tran...| 2011-12| Dr. Manda Jagnathan|        N|   INC|Others|\n",
      "|524b1379d08e4c02f...|   54000|through bank tran...| 2011-12|    Prof. K.V.Thomas|        N|   INC|Others|\n",
      "|6db7af0c5dca3b333...|  100000|          146865 sbi| 2011-12|     Sweta Chyouksey|        Y|   BJP|Others|\n",
      "|c01158e07376c3778...|  100000|          994966 sbi| 2011-12|   Uma Shankar Gupta|        N|   BJP|Others|\n",
      "|d8156bae0c4243d37...|   25000|14021,  union ban...| 2013-14|Parshwanath Bhakt...|        N|   BJP|Others|\n",
      "|15c64efe58b209e20...|  100000|          168278 sbi| 2011-12|Anand Constructio...|        Y|   BJP|Others|\n",
      "|c8087c832dde2a1c4...|   54000|       bank transfer| 2013-14|       Kamal Kashore|        N|   INC|Others|\n",
      "|9f2ba6981e36ea0fc...|  100000|955592 bank of in...| 2004-05|          R.V Pandit|        N|   BJP|Others|\n",
      "|d8156bae0c4243d37...|  100000|              430969| 2012-13|      A & T Infracon|        N|   BJP|Others|\n",
      "|9ed075605230cbb74...|  300000|cheque no.884045 ...| 2008-09|A 2 Z online  Ser...|        N|   BJP|Others|\n",
      "|4bc59ca1c387bfd59...|  200000|cheque no-  88404...| 2008-09|A 2 Z online  Ser...|        N|   BJP|Others|\n",
      "|4bc59ca1c387bfd59...|  200000|cheque no-  88404...| 2008-09|A 2 Z online  Ser...|        N|   BJP|Others|\n",
      "|d8156bae0c4243d37...|  125000|952450, saraswat ...| 2012-13|A B Rolling Mills...|        N|   BJP|Others|\n",
      "|a68f3334fbfbdf18b...|  100000|72437 allahabad bank| 2011-12|           A C Dixit|        N|   BJP|Others|\n",
      "|e9552141c8f9ab365...|  100000|174993, union ban...| 2014-15|        A D Builders|        Y|   BJP|Others|\n",
      "|d8156bae0c4243d37...|   21000|            234, boi| 2012-13|               A Fox|        N|   BJP|Others|\n",
      "|6f87e5d7cdf08271c...|  100000|ch. no. 62063/dtd...| 2009-10|A Mahendra Jewellers|        Y|   INC|Others|\n",
      "+--------------------+--------+--------------------+--------+--------------------+---------+------+------+\n",
      "only showing top 20 rows\n",
      "\n"
     ]
    }
   ],
   "source": [
    "df.show()"
   ]
  },
  {
   "cell_type": "code",
   "execution_count": 86,
   "metadata": {},
   "outputs": [
    {
     "name": "stdout",
     "output_type": "stream",
     "text": [
      "+--------------------+--------+---------------+--------+--------------------+---------+------+------+\n",
      "|             Address|  Amount|mode_of_payment|fin_year|                Name|pan_given| Party|  Type|\n",
      "+--------------------+--------+---------------+--------+--------------------+---------+------+------+\n",
      "|5a3058deb6f337958...| 3000000|           Cash| 2010-11|          Aziz Pasha|        Y|   CPI|Others|\n",
      "|846539cb21bc9e6c6...|10000000|           Bank| 2014-15|    V K Ramachandran|        Y|CPI(M)|Others|\n",
      "|869fa3a19f1c51ad1...|  108000|         Cheque| 2014-15|  Dr. Manmohan Singh|        N|   INC|Others|\n",
      "|5f04f40130569ddab...|   54000|           Bank| 2011-12| Dr. Manda Jagnathan|        N|   INC|Others|\n",
      "|524b1379d08e4c02f...|   54000|           Bank| 2011-12|    Prof. K.V.Thomas|        N|   INC|Others|\n",
      "|6db7af0c5dca3b333...|  100000|         Others| 2011-12|     Sweta Chyouksey|        Y|   BJP|Others|\n",
      "|c01158e07376c3778...|  100000|         Others| 2011-12|   Uma Shankar Gupta|        N|   BJP|Others|\n",
      "|d8156bae0c4243d37...|   25000|           Bank| 2013-14|Parshwanath Bhakt...|        N|   BJP|Others|\n",
      "|15c64efe58b209e20...|  100000|         Others| 2011-12|Anand Constructio...|        Y|   BJP|Others|\n",
      "|c8087c832dde2a1c4...|   54000|           Bank| 2013-14|       Kamal Kashore|        N|   INC|Others|\n",
      "|9f2ba6981e36ea0fc...|  100000|           Bank| 2004-05|          R.V Pandit|        N|   BJP|Others|\n",
      "|d8156bae0c4243d37...|  100000|         Others| 2012-13|      A & T Infracon|        N|   BJP|Others|\n",
      "|9ed075605230cbb74...|  300000|         Cheque| 2008-09|A 2 Z online  Ser...|        N|   BJP|Others|\n",
      "|4bc59ca1c387bfd59...|  200000|         Cheque| 2008-09|A 2 Z online  Ser...|        N|   BJP|Others|\n",
      "|4bc59ca1c387bfd59...|  200000|         Cheque| 2008-09|A 2 Z online  Ser...|        N|   BJP|Others|\n",
      "|d8156bae0c4243d37...|  125000|           Bank| 2012-13|A B Rolling Mills...|        N|   BJP|Others|\n",
      "|a68f3334fbfbdf18b...|  100000|           Bank| 2011-12|           A C Dixit|        N|   BJP|Others|\n",
      "|e9552141c8f9ab365...|  100000|           Bank| 2014-15|        A D Builders|        Y|   BJP|Others|\n",
      "|d8156bae0c4243d37...|   21000|         Others| 2012-13|               A Fox|        N|   BJP|Others|\n",
      "|6f87e5d7cdf08271c...|  100000|         Cheque| 2009-10|A Mahendra Jewellers|        Y|   INC|Others|\n",
      "+--------------------+--------+---------------+--------+--------------------+---------+------+------+\n",
      "only showing top 20 rows\n",
      "\n"
     ]
    }
   ],
   "source": [
    "df = df.withColumn(\"mode_of_payment\", when(col(\"mode_of_payment\").contains(\"cash\"),\"Cash\")\n",
    "      .when(col(\"mode_of_payment\").contains(\"cheque\"),\"Cheque\")\n",
    "      .when(col(\"mode_of_payment\").contains(\"ch.\"),\"Cheque\")\n",
    "      .when(col(\"mode_of_payment\").contains(\"bank\"),\"Bank\")\n",
    "      .otherwise(\"Others\"))\n",
    "\n",
    "df.show()"
   ]
  },
  {
   "cell_type": "code",
   "execution_count": 91,
   "metadata": {},
   "outputs": [
    {
     "name": "stdout",
     "output_type": "stream",
     "text": [
      "+------+-----------+------------+------------------+-----------+\n",
      "| Party|sum(Amount)|count(Party)|       avg(Amount)|max(Amount)|\n",
      "+------+-----------+------------+------------------+-----------+\n",
      "|   INC| 4031487349|        3785|1065122.1529722589|  500000000|\n",
      "|   BJP| 9295525996|        8782|1058474.8344340697|  500000000|\n",
      "|   NCP|  647911419|         107| 6055246.906542056|   50000000|\n",
      "|   CPI|   68123698|         384|177405.46354166666|    3000000|\n",
      "|CPI(M)|  150622128|         515| 292470.1514563107|   10000000|\n",
      "+------+-----------+------------+------------------+-----------+\n",
      "\n"
     ]
    }
   ],
   "source": [
    "from pyspark.sql.types import IntegerType\n",
    "from pyspark.sql import functions\n",
    "df = df.withColumn(\"Amount\",col(\"Amount\").cast(IntegerType()))\n",
    "cf=df.groupBy(\"Party\").agg(functions.sum(\"Amount\"),functions.count(\"Party\"),functions.avg(\"Amount\"),functions.max(\"Amount\"))\n",
    "cf.show()"
   ]
  },
  {
   "cell_type": "code",
   "execution_count": 88,
   "metadata": {},
   "outputs": [
    {
     "name": "stdout",
     "output_type": "stream",
     "text": [
      "4031487349\n"
     ]
    }
   ],
   "source": [
    "def GetValueFromDataFrame(df,ColumnName):\n",
    "    a = []\n",
    "    for row in df.rdd.collect():\n",
    "        a.append(row[ColumnName])\n",
    "    return a\n",
    "\n",
    "sum_arr=GetValueFromDataFrame(cf,\"sum(Amount)\")\n",
    "print(sum_arr[0])\n"
   ]
  },
  {
   "cell_type": "code",
   "execution_count": 89,
   "metadata": {},
   "outputs": [
    {
     "name": "stdout",
     "output_type": "stream",
     "text": [
      "4031487349\n",
      "+--------------------+--------+---------------+--------+--------------------+---------+------+------+-----------+-----------+-----------+-----------+--------------+\n",
      "|             Address|  Amount|mode_of_payment|fin_year|                Name|pan_given| Party|  Type|INC_SUM_LTD|BJP_SUM_LTD|NCP_SUM_LTD|CPI_SUM_LTD|CPI(M)_SUM_LTD|\n",
      "+--------------------+--------+---------------+--------+--------------------+---------+------+------+-----------+-----------+-----------+-----------+--------------+\n",
      "|5a3058deb6f337958...| 3000000|           Cash| 2010-11|          Aziz Pasha|        Y|   CPI|Others|          0|          0|          0|   68123698|             0|\n",
      "|846539cb21bc9e6c6...|10000000|           Bank| 2014-15|    V K Ramachandran|        Y|CPI(M)|Others|          0|          0|          0|          0|     150622128|\n",
      "|869fa3a19f1c51ad1...|  108000|         Cheque| 2014-15|  Dr. Manmohan Singh|        N|   INC|Others| 4031487349|          0|          0|          0|             0|\n",
      "|5f04f40130569ddab...|   54000|           Bank| 2011-12| Dr. Manda Jagnathan|        N|   INC|Others| 4031487349|          0|          0|          0|             0|\n",
      "|524b1379d08e4c02f...|   54000|           Bank| 2011-12|    Prof. K.V.Thomas|        N|   INC|Others| 4031487349|          0|          0|          0|             0|\n",
      "|6db7af0c5dca3b333...|  100000|         Others| 2011-12|     Sweta Chyouksey|        Y|   BJP|Others|          0| 9295525996|          0|          0|             0|\n",
      "|c01158e07376c3778...|  100000|         Others| 2011-12|   Uma Shankar Gupta|        N|   BJP|Others|          0| 9295525996|          0|          0|             0|\n",
      "|d8156bae0c4243d37...|   25000|           Bank| 2013-14|Parshwanath Bhakt...|        N|   BJP|Others|          0| 9295525996|          0|          0|             0|\n",
      "|15c64efe58b209e20...|  100000|         Others| 2011-12|Anand Constructio...|        Y|   BJP|Others|          0| 9295525996|          0|          0|             0|\n",
      "|c8087c832dde2a1c4...|   54000|           Bank| 2013-14|       Kamal Kashore|        N|   INC|Others| 4031487349|          0|          0|          0|             0|\n",
      "|9f2ba6981e36ea0fc...|  100000|           Bank| 2004-05|          R.V Pandit|        N|   BJP|Others|          0| 9295525996|          0|          0|             0|\n",
      "|d8156bae0c4243d37...|  100000|         Others| 2012-13|      A & T Infracon|        N|   BJP|Others|          0| 9295525996|          0|          0|             0|\n",
      "|9ed075605230cbb74...|  300000|         Cheque| 2008-09|A 2 Z online  Ser...|        N|   BJP|Others|          0| 9295525996|          0|          0|             0|\n",
      "|4bc59ca1c387bfd59...|  200000|         Cheque| 2008-09|A 2 Z online  Ser...|        N|   BJP|Others|          0| 9295525996|          0|          0|             0|\n",
      "|4bc59ca1c387bfd59...|  200000|         Cheque| 2008-09|A 2 Z online  Ser...|        N|   BJP|Others|          0| 9295525996|          0|          0|             0|\n",
      "|d8156bae0c4243d37...|  125000|           Bank| 2012-13|A B Rolling Mills...|        N|   BJP|Others|          0| 9295525996|          0|          0|             0|\n",
      "|a68f3334fbfbdf18b...|  100000|           Bank| 2011-12|           A C Dixit|        N|   BJP|Others|          0| 9295525996|          0|          0|             0|\n",
      "|e9552141c8f9ab365...|  100000|           Bank| 2014-15|        A D Builders|        Y|   BJP|Others|          0| 9295525996|          0|          0|             0|\n",
      "|d8156bae0c4243d37...|   21000|         Others| 2012-13|               A Fox|        N|   BJP|Others|          0| 9295525996|          0|          0|             0|\n",
      "|6f87e5d7cdf08271c...|  100000|         Cheque| 2009-10|A Mahendra Jewellers|        Y|   INC|Others| 4031487349|          0|          0|          0|             0|\n",
      "+--------------------+--------+---------------+--------+--------------------+---------+------+------+-----------+-----------+-----------+-----------+--------------+\n",
      "only showing top 20 rows\n",
      "\n"
     ]
    }
   ],
   "source": [
    "def GetValueFromDataframe(df,columnName):\n",
    "    a = []\n",
    "    for row in df.rdd.collect():      \n",
    "        a.append(row[columnName])\n",
    "    return a\n",
    "\n",
    "sum_arr = GetValueFromDataframe(cf,\"sum(Amount)\")\n",
    "party_arr = GetValueFromDataframe(cf,\"Party\")\n",
    "print(sum_arr[0])\n",
    "i = 0\n",
    "\n",
    "while i < len(party_arr):\n",
    "    col_name = party_arr[i] + \"_SUM_LTD\"\n",
    "    df = df.withColumn(col_name,lit(0))\n",
    "    df = df.withColumn(col_name, when(col(\"Party\") == party_arr[i],sum_arr[i])\n",
    "    .otherwise(0))\n",
    "    i += 1\n",
    "df.show()"
   ]
  },
  {
   "cell_type": "code",
   "execution_count": 92,
   "metadata": {},
   "outputs": [
    {
     "name": "stdout",
     "output_type": "stream",
     "text": [
      "+--------------------+--------+---------------+--------+--------------------+---------+------+------+-----------+-----------+-----------+-----------+--------------+-------------+-------------+-------------+-------------+----------------+------------------+------------------+-----------+------------------+-----------------+-----------+-----------+-----------+-----------+--------------+\n",
      "|             Address|  Amount|mode_of_payment|fin_year|                Name|pan_given| Party|  Type|INC_SUM_LTD|BJP_SUM_LTD|NCP_SUM_LTD|CPI_SUM_LTD|CPI(M)_SUM_LTD|INC_COUNT_LTD|BJP_COUNT_LTD|NCP_COUNT_LTD|CPI_COUNT_LTD|CPI(M)_COUNT_LTD|       INC_AVG_LTD|       BJP_AVG_LTD|NCP_AVG_LTD|       CPI_AVG_LTD|   CPI(M)_AVG_LTD|INC_MAX_LTD|BJP_MAX_LTD|NCP_MAX_LTD|CPI_MAX_LTD|CPI(M)_MAX_LTD|\n",
      "+--------------------+--------+---------------+--------+--------------------+---------+------+------+-----------+-----------+-----------+-----------+--------------+-------------+-------------+-------------+-------------+----------------+------------------+------------------+-----------+------------------+-----------------+-----------+-----------+-----------+-----------+--------------+\n",
      "|5a3058deb6f337958...| 3000000|           Cash| 2010-11|          Aziz Pasha|        Y|   CPI|Others|          0|          0|          0|   68123698|             0|            0|            0|            0|          384|               0|               0.0|               0.0|        0.0|177405.46354166666|              0.0|          0|          0|          0|    3000000|             0|\n",
      "|846539cb21bc9e6c6...|10000000|           Bank| 2014-15|    V K Ramachandran|        Y|CPI(M)|Others|          0|          0|          0|          0|     150622128|            0|            0|            0|            0|             515|               0.0|               0.0|        0.0|               0.0|292470.1514563107|          0|          0|          0|          0|      10000000|\n",
      "|869fa3a19f1c51ad1...|  108000|         Cheque| 2014-15|  Dr. Manmohan Singh|        N|   INC|Others| 4031487349|          0|          0|          0|             0|         3785|            0|            0|            0|               0|1065122.1529722589|               0.0|        0.0|               0.0|              0.0|  500000000|          0|          0|          0|             0|\n",
      "|5f04f40130569ddab...|   54000|           Bank| 2011-12| Dr. Manda Jagnathan|        N|   INC|Others| 4031487349|          0|          0|          0|             0|         3785|            0|            0|            0|               0|1065122.1529722589|               0.0|        0.0|               0.0|              0.0|  500000000|          0|          0|          0|             0|\n",
      "|524b1379d08e4c02f...|   54000|           Bank| 2011-12|    Prof. K.V.Thomas|        N|   INC|Others| 4031487349|          0|          0|          0|             0|         3785|            0|            0|            0|               0|1065122.1529722589|               0.0|        0.0|               0.0|              0.0|  500000000|          0|          0|          0|             0|\n",
      "|6db7af0c5dca3b333...|  100000|         Others| 2011-12|     Sweta Chyouksey|        Y|   BJP|Others|          0| 9295525996|          0|          0|             0|            0|         8782|            0|            0|               0|               0.0|1058474.8344340697|        0.0|               0.0|              0.0|          0|  500000000|          0|          0|             0|\n",
      "|c01158e07376c3778...|  100000|         Others| 2011-12|   Uma Shankar Gupta|        N|   BJP|Others|          0| 9295525996|          0|          0|             0|            0|         8782|            0|            0|               0|               0.0|1058474.8344340697|        0.0|               0.0|              0.0|          0|  500000000|          0|          0|             0|\n",
      "|d8156bae0c4243d37...|   25000|           Bank| 2013-14|Parshwanath Bhakt...|        N|   BJP|Others|          0| 9295525996|          0|          0|             0|            0|         8782|            0|            0|               0|               0.0|1058474.8344340697|        0.0|               0.0|              0.0|          0|  500000000|          0|          0|             0|\n",
      "|15c64efe58b209e20...|  100000|         Others| 2011-12|Anand Constructio...|        Y|   BJP|Others|          0| 9295525996|          0|          0|             0|            0|         8782|            0|            0|               0|               0.0|1058474.8344340697|        0.0|               0.0|              0.0|          0|  500000000|          0|          0|             0|\n",
      "|c8087c832dde2a1c4...|   54000|           Bank| 2013-14|       Kamal Kashore|        N|   INC|Others| 4031487349|          0|          0|          0|             0|         3785|            0|            0|            0|               0|1065122.1529722589|               0.0|        0.0|               0.0|              0.0|  500000000|          0|          0|          0|             0|\n",
      "|9f2ba6981e36ea0fc...|  100000|           Bank| 2004-05|          R.V Pandit|        N|   BJP|Others|          0| 9295525996|          0|          0|             0|            0|         8782|            0|            0|               0|               0.0|1058474.8344340697|        0.0|               0.0|              0.0|          0|  500000000|          0|          0|             0|\n",
      "|d8156bae0c4243d37...|  100000|         Others| 2012-13|      A & T Infracon|        N|   BJP|Others|          0| 9295525996|          0|          0|             0|            0|         8782|            0|            0|               0|               0.0|1058474.8344340697|        0.0|               0.0|              0.0|          0|  500000000|          0|          0|             0|\n",
      "|9ed075605230cbb74...|  300000|         Cheque| 2008-09|A 2 Z online  Ser...|        N|   BJP|Others|          0| 9295525996|          0|          0|             0|            0|         8782|            0|            0|               0|               0.0|1058474.8344340697|        0.0|               0.0|              0.0|          0|  500000000|          0|          0|             0|\n",
      "|4bc59ca1c387bfd59...|  200000|         Cheque| 2008-09|A 2 Z online  Ser...|        N|   BJP|Others|          0| 9295525996|          0|          0|             0|            0|         8782|            0|            0|               0|               0.0|1058474.8344340697|        0.0|               0.0|              0.0|          0|  500000000|          0|          0|             0|\n",
      "|4bc59ca1c387bfd59...|  200000|         Cheque| 2008-09|A 2 Z online  Ser...|        N|   BJP|Others|          0| 9295525996|          0|          0|             0|            0|         8782|            0|            0|               0|               0.0|1058474.8344340697|        0.0|               0.0|              0.0|          0|  500000000|          0|          0|             0|\n",
      "|d8156bae0c4243d37...|  125000|           Bank| 2012-13|A B Rolling Mills...|        N|   BJP|Others|          0| 9295525996|          0|          0|             0|            0|         8782|            0|            0|               0|               0.0|1058474.8344340697|        0.0|               0.0|              0.0|          0|  500000000|          0|          0|             0|\n",
      "|a68f3334fbfbdf18b...|  100000|           Bank| 2011-12|           A C Dixit|        N|   BJP|Others|          0| 9295525996|          0|          0|             0|            0|         8782|            0|            0|               0|               0.0|1058474.8344340697|        0.0|               0.0|              0.0|          0|  500000000|          0|          0|             0|\n",
      "|e9552141c8f9ab365...|  100000|           Bank| 2014-15|        A D Builders|        Y|   BJP|Others|          0| 9295525996|          0|          0|             0|            0|         8782|            0|            0|               0|               0.0|1058474.8344340697|        0.0|               0.0|              0.0|          0|  500000000|          0|          0|             0|\n",
      "|d8156bae0c4243d37...|   21000|         Others| 2012-13|               A Fox|        N|   BJP|Others|          0| 9295525996|          0|          0|             0|            0|         8782|            0|            0|               0|               0.0|1058474.8344340697|        0.0|               0.0|              0.0|          0|  500000000|          0|          0|             0|\n",
      "|6f87e5d7cdf08271c...|  100000|         Cheque| 2009-10|A Mahendra Jewellers|        Y|   INC|Others| 4031487349|          0|          0|          0|             0|         3785|            0|            0|            0|               0|1065122.1529722589|               0.0|        0.0|               0.0|              0.0|  500000000|          0|          0|          0|             0|\n",
      "+--------------------+--------+---------------+--------+--------------------+---------+------+------+-----------+-----------+-----------+-----------+--------------+-------------+-------------+-------------+-------------+----------------+------------------+------------------+-----------+------------------+-----------------+-----------+-----------+-----------+-----------+--------------+\n",
      "only showing top 20 rows\n",
      "\n"
     ]
    }
   ],
   "source": [
    "def GetValueFromDataframe(df,columnName):\n",
    "    a = []\n",
    "    for row in df.rdd.collect():      \n",
    "        a.append(row[columnName])\n",
    "    return a\n",
    "\n",
    "sum_arr = GetValueFromDataframe(cf,\"sum(Amount)\")\n",
    "count_arr = GetValueFromDataframe(cf,\"count(Party)\")\n",
    "avg_arr = GetValueFromDataframe(cf,\"avg(Amount)\")\n",
    "max_arr = GetValueFromDataframe(cf,\"max(Amount)\")\n",
    "party_arr = GetValueFromDataframe(cf,\"Party\")\n",
    "\n",
    "i = 0\n",
    "j = 0\n",
    "\n",
    "party_arr_end = [\"_SUM_LTD\",\"_COUNT_LTD\",\"_AVG_LTD\",\"_MAX_LTD\"]\n",
    "agg_values = [sum_arr,count_arr,avg_arr,max_arr]\n",
    "\n",
    "while i < 4:\n",
    "    while j < len(party_arr):\n",
    "        col_name = party_arr[j] + party_arr_end[i]\n",
    "        df = df.withColumn(col_name,lit(0))\n",
    "        df = df.withColumn(col_name, when(col(\"Party\") == party_arr[j],agg_values[i][j])\n",
    "        .otherwise(0))\n",
    "        j += 1\n",
    "    j = 0\n",
    "    i += 1\n",
    "df.show()"
   ]
  },
  {
   "cell_type": "code",
   "execution_count": 93,
   "metadata": {},
   "outputs": [],
   "source": [
    "inc_top_donor = df.filter(df[\"Amount\"] == max_arr[0]).select(\"Name\").collect()[0][0]\n",
    "bjp_top_donor = df.filter(df[\"Amount\"] == max_arr[1]).select(\"Name\").collect()[0][0]\n",
    "ncp_top_donor = df.filter(df[\"Amount\"] == max_arr[2]).select(\"Name\").collect()[0][0]\n",
    "cpi_top_donor = df.filter(df[\"Amount\"] == max_arr[3]).select(\"Name\").collect()[0][0]\n",
    "cpi_m_top_donor = df.filter(df[\"Amount\"] == max_arr[4]).select(\"Name\").collect()[0][0]"
   ]
  },
  {
   "cell_type": "code",
   "execution_count": 94,
   "metadata": {},
   "outputs": [
    {
     "name": "stdout",
     "output_type": "stream",
     "text": [
      "+------+--------------------+--------------------+-------------+-------------+----------------+\n",
      "| Party|       INC_TOP_DONOR|       BJP_TOP_DONOR|NCP_TOP_DONOR|CPI_TOP_DONOR|CPI(M)_TOP_DONOR|\n",
      "+------+--------------------+--------------------+-------------+-------------+----------------+\n",
      "|   CPI|                   0|                   0|            0|   Aziz Pasha|               0|\n",
      "|CPI(M)|                   0|                   0|            0|            0|V K Ramachandran|\n",
      "|   INC|General Electoral...|                   0|            0|            0|               0|\n",
      "|   INC|General Electoral...|                   0|            0|            0|               0|\n",
      "|   INC|General Electoral...|                   0|            0|            0|               0|\n",
      "|   BJP|                   0|General Electoral...|            0|            0|               0|\n",
      "|   BJP|                   0|General Electoral...|            0|            0|               0|\n",
      "|   BJP|                   0|General Electoral...|            0|            0|               0|\n",
      "|   BJP|                   0|General Electoral...|            0|            0|               0|\n",
      "|   INC|General Electoral...|                   0|            0|            0|               0|\n",
      "|   BJP|                   0|General Electoral...|            0|            0|               0|\n",
      "|   BJP|                   0|General Electoral...|            0|            0|               0|\n",
      "|   BJP|                   0|General Electoral...|            0|            0|               0|\n",
      "|   BJP|                   0|General Electoral...|            0|            0|               0|\n",
      "|   BJP|                   0|General Electoral...|            0|            0|               0|\n",
      "|   BJP|                   0|General Electoral...|            0|            0|               0|\n",
      "|   BJP|                   0|General Electoral...|            0|            0|               0|\n",
      "|   BJP|                   0|General Electoral...|            0|            0|               0|\n",
      "|   BJP|                   0|General Electoral...|            0|            0|               0|\n",
      "|   INC|General Electoral...|                   0|            0|            0|               0|\n",
      "+------+--------------------+--------------------+-------------+-------------+----------------+\n",
      "only showing top 20 rows\n",
      "\n"
     ]
    }
   ],
   "source": [
    "i = 0\n",
    "top_donor_arr = [inc_top_donor,bjp_top_donor,ncp_top_donor,cpi_top_donor,cpi_m_top_donor]\n",
    "\n",
    "while i < 5:\n",
    "    col_name = party_arr[i] + \"_TOP_DONOR\"\n",
    "    df = df.withColumn(col_name,lit(0))\n",
    "    df = df.withColumn(col_name, when(col(\"Party\") == party_arr[i],top_donor_arr[i])\n",
    "    .otherwise(0))\n",
    "    i += 1\n",
    "df.select(\"Party\",\"INC_TOP_DONOR\",\"BJP_TOP_DONOR\",\"NCP_TOP_DONOR\",\"CPI_TOP_DONOR\",\"CPI(M)_TOP_DONOR\").show()"
   ]
  },
  {
   "cell_type": "code",
   "execution_count": 97,
   "metadata": {},
   "outputs": [
    {
     "name": "stdout",
     "output_type": "stream",
     "text": [
      "+------+--------+-----------+\n",
      "| Party|fin_year|sum(Amount)|\n",
      "+------+--------+-----------+\n",
      "|   INC| 2003-04|   28301101|\n",
      "|CPI(M)| 2003-04|     200000|\n",
      "|   BJP| 2003-04|  116881973|\n",
      "|   CPI| 2003-04|     779148|\n",
      "|   INC| 2004-05|  320555643|\n",
      "|CPI(M)| 2004-05|     896355|\n",
      "|   CPI| 2004-05|     630000|\n",
      "|   BJP| 2004-05|  339521289|\n",
      "|   CPI| 2005-06|    3988690|\n",
      "|   BJP| 2005-06|   36156111|\n",
      "|CPI(M)| 2005-06|     550000|\n",
      "|   INC| 2005-06|   59212492|\n",
      "|CPI(M)| 2006-07|    1124719|\n",
      "|   BJP| 2006-07|   29550672|\n",
      "|   INC| 2006-07|  121273513|\n",
      "|   CPI| 2006-07|    1229400|\n",
      "|   CPI| 2007-08|    4125800|\n",
      "|CPI(M)| 2007-08|    7226116|\n",
      "|   BJP| 2007-08|  249623653|\n",
      "|   NCP| 2007-08|   10225000|\n",
      "+------+--------+-----------+\n",
      "only showing top 20 rows\n",
      "\n"
     ]
    }
   ],
   "source": [
    "x = df.groupBy('Party','fin_year').sum('Amount').sort('fin_year')\n",
    "x.show()\n"
   ]
  },
  {
   "cell_type": "code",
   "execution_count": 100,
   "metadata": {},
   "outputs": [
    {
     "name": "stdout",
     "output_type": "stream",
     "text": [
      "+--------------------+--------+---------------+--------+--------------------+---------+------+------+-----------+-----------+-----------+-----------+--------------+-------------+-------------+-------------+-------------+----------------+------------------+------------------+-----------+------------------+-----------------+-----------+-----------+-----------+-----------+--------------+--------------------+--------------------+-------------+-------------+----------------+---------------+---------------+---------------+------------------+---------------+------------------+---------------+---------------+------------------+---------------+---------------+---------------+---------------+------------------+---------------+---------------+---------------+---------------+---------------+------------------+---------------+---------------+------------------+---------------+---------------+---------------+---------------+------------------+---------------+---------------+---------------+---------------+---------------+---------------+---------------+------------------+------------------+---------------+---------------+---------------+---------------+---------------+---------------+---------------+------------------+---------------+---------------+---------------+---------------+------------------+---------------+---------------+---------------+---------------+------------------+---------------+\n",
      "|             Address|  Amount|mode_of_payment|fin_year|                Name|pan_given| Party|  Type|INC_SUM_LTD|BJP_SUM_LTD|NCP_SUM_LTD|CPI_SUM_LTD|CPI(M)_SUM_LTD|INC_COUNT_LTD|BJP_COUNT_LTD|NCP_COUNT_LTD|CPI_COUNT_LTD|CPI(M)_COUNT_LTD|       INC_AVG_LTD|       BJP_AVG_LTD|NCP_AVG_LTD|       CPI_AVG_LTD|   CPI(M)_AVG_LTD|INC_MAX_LTD|BJP_MAX_LTD|NCP_MAX_LTD|CPI_MAX_LTD|CPI(M)_MAX_LTD|       INC_TOP_DONOR|       BJP_TOP_DONOR|NCP_TOP_DONOR|CPI_TOP_DONOR|CPI(M)_TOP_DONOR|2003-04_BJP_SUM|2003-04_CPI_SUM|2003-04_INC_SUM|2003-04_CPI(M)_SUM|2004-05_INC_SUM|2004-05_CPI(M)_SUM|2004-05_CPI_SUM|2004-05_BJP_SUM|2005-06_CPI(M)_SUM|2005-06_BJP_SUM|2005-06_INC_SUM|2005-06_CPI_SUM|2006-07_INC_SUM|2006-07_CPI(M)_SUM|2006-07_BJP_SUM|2006-07_CPI_SUM|2007-08_CPI_SUM|2007-08_BJP_SUM|2007-08_NCP_SUM|2007-08_CPI(M)_SUM|2007-08_INC_SUM|2008-09_BJP_SUM|2008-09_CPI(M)_SUM|2008-09_CPI_SUM|2008-09_NCP_SUM|2008-09_INC_SUM|2009-10_BJP_SUM|2009-10_CPI(M)_SUM|2009-10_NCP_SUM|2009-10_CPI_SUM|2009-10_INC_SUM|2010-11_BJP_SUM|2010-11_NCP_SUM|2010-11_INC_SUM|2010-11_CPI_SUM|2010-11_CPI(M)_SUM|2011-12_CPI(M)_SUM|2011-12_BJP_SUM|2011-12_CPI_SUM|2011-12_INC_SUM|2011-12_NCP_SUM|2012-13_CPI_SUM|2012-13_NCP_SUM|2012-13_INC_SUM|2012-13_CPI(M)_SUM|2012-13_BJP_SUM|2013-14_INC_SUM|2013-14_NCP_SUM|2013-14_BJP_SUM|2013-14_CPI(M)_SUM|2013-14_CPI_SUM|2014-15_INC_SUM|2014-15_NCP_SUM|2014-15_BJP_SUM|2014-15_CPI(M)_SUM|2014-15_CPI_SUM|\n",
      "+--------------------+--------+---------------+--------+--------------------+---------+------+------+-----------+-----------+-----------+-----------+--------------+-------------+-------------+-------------+-------------+----------------+------------------+------------------+-----------+------------------+-----------------+-----------+-----------+-----------+-----------+--------------+--------------------+--------------------+-------------+-------------+----------------+---------------+---------------+---------------+------------------+---------------+------------------+---------------+---------------+------------------+---------------+---------------+---------------+---------------+------------------+---------------+---------------+---------------+---------------+---------------+------------------+---------------+---------------+------------------+---------------+---------------+---------------+---------------+------------------+---------------+---------------+---------------+---------------+---------------+---------------+---------------+------------------+------------------+---------------+---------------+---------------+---------------+---------------+---------------+---------------+------------------+---------------+---------------+---------------+---------------+------------------+---------------+---------------+---------------+---------------+------------------+---------------+\n",
      "|5a3058deb6f337958...| 3000000|           Cash| 2010-11|          Aziz Pasha|        Y|   CPI|Others|          0|          0|          0|   68123698|             0|            0|            0|            0|          384|               0|               0.0|               0.0|        0.0|177405.46354166666|              0.0|          0|          0|          0|    3000000|             0|                   0|                   0|            0|   Aziz Pasha|               0|              -|         779148|              -|                 -|              -|                 -|         630000|              -|                 -|              -|              -|        3988690|              -|                 -|              -|        1229400|        4125800|              -|              -|                 -|              -|              -|                 -|        2585000|              -|              -|              -|                 -|              -|        8667852|              -|              -|              -|              -|       10811465|                 -|                 -|              -|        5982675|              -|              -|        3695449|              -|              -|                 -|              -|              -|              -|              -|                 -|       12281544|              -|              -|              -|                 -|       13346675|\n",
      "|846539cb21bc9e6c6...|10000000|           Bank| 2014-15|    V K Ramachandran|        Y|CPI(M)|Others|          0|          0|          0|          0|     150622128|            0|            0|            0|            0|             515|               0.0|               0.0|        0.0|               0.0|292470.1514563107|          0|          0|          0|          0|      10000000|                   0|                   0|            0|            0|V K Ramachandran|              -|              -|              -|            200000|              -|            896355|              -|              -|            550000|              -|              -|              -|              -|           1124719|              -|              -|              -|              -|              -|           7226116|              -|              -|           4155000|              -|              -|              -|              -|           3962049|              -|              -|              -|              -|              -|              -|              -|          15357072|          23838657|              -|              -|              -|              -|              -|              -|              -|          38139996|              -|              -|              -|              -|          20974666|              -|              -|              -|              -|          34197498|              -|\n",
      "|869fa3a19f1c51ad1...|  108000|         Cheque| 2014-15|  Dr. Manmohan Singh|        N|   INC|Others| 4031487349|          0|          0|          0|             0|         3785|            0|            0|            0|               0|1065122.1529722589|               0.0|        0.0|               0.0|              0.0|  500000000|          0|          0|          0|             0|General Electoral...|                   0|            0|            0|               0|              -|              -|       28301101|                 -|      320555643|                 -|              -|              -|                 -|              -|       59212492|              -|      121273513|                 -|              -|              -|              -|              -|              -|                 -|       78873451|              -|                 -|              -|              -|      279018460|              -|                 -|              -|              -|      840521238|              -|              -|       80205884|              -|                 -|                 -|              -|              -|       95910664|              -|              -|              -|      117166225|                 -|              -|      595837728|              -|              -|                 -|              -|     1414610950|              -|              -|                 -|              -|\n",
      "|5f04f40130569ddab...|   54000|           Bank| 2011-12| Dr. Manda Jagnathan|        N|   INC|Others| 4031487349|          0|          0|          0|             0|         3785|            0|            0|            0|               0|1065122.1529722589|               0.0|        0.0|               0.0|              0.0|  500000000|          0|          0|          0|             0|General Electoral...|                   0|            0|            0|               0|              -|              -|       28301101|                 -|      320555643|                 -|              -|              -|                 -|              -|       59212492|              -|      121273513|                 -|              -|              -|              -|              -|              -|                 -|       78873451|              -|                 -|              -|              -|      279018460|              -|                 -|              -|              -|      840521238|              -|              -|       80205884|              -|                 -|                 -|              -|              -|       95910664|              -|              -|              -|      117166225|                 -|              -|      595837728|              -|              -|                 -|              -|     1414610950|              -|              -|                 -|              -|\n",
      "|524b1379d08e4c02f...|   54000|           Bank| 2011-12|    Prof. K.V.Thomas|        N|   INC|Others| 4031487349|          0|          0|          0|             0|         3785|            0|            0|            0|               0|1065122.1529722589|               0.0|        0.0|               0.0|              0.0|  500000000|          0|          0|          0|             0|General Electoral...|                   0|            0|            0|               0|              -|              -|       28301101|                 -|      320555643|                 -|              -|              -|                 -|              -|       59212492|              -|      121273513|                 -|              -|              -|              -|              -|              -|                 -|       78873451|              -|                 -|              -|              -|      279018460|              -|                 -|              -|              -|      840521238|              -|              -|       80205884|              -|                 -|                 -|              -|              -|       95910664|              -|              -|              -|      117166225|                 -|              -|      595837728|              -|              -|                 -|              -|     1414610950|              -|              -|                 -|              -|\n",
      "|6db7af0c5dca3b333...|  100000|         Others| 2011-12|     Sweta Chyouksey|        Y|   BJP|Others|          0| 9295525996|          0|          0|             0|            0|         8782|            0|            0|               0|               0.0|1058474.8344340697|        0.0|               0.0|              0.0|          0|  500000000|          0|          0|             0|                   0|General Electoral...|            0|            0|               0|      116881973|              -|              -|                 -|              -|                 -|              -|      339521289|                 -|       36156111|              -|              -|              -|                 -|       29550672|              -|              -|      249623653|              -|                 -|              -|      306057231|                 -|              -|              -|              -|      823220133|                 -|              -|              -|              -|      146253279|              -|              -|              -|                 -|                 -|      334194113|              -|              -|              -|              -|              -|              -|                 -|      831924462|              -|              -|     1708636182|                 -|              -|              -|              -|     4373506898|                 -|              -|\n",
      "|c01158e07376c3778...|  100000|         Others| 2011-12|   Uma Shankar Gupta|        N|   BJP|Others|          0| 9295525996|          0|          0|             0|            0|         8782|            0|            0|               0|               0.0|1058474.8344340697|        0.0|               0.0|              0.0|          0|  500000000|          0|          0|             0|                   0|General Electoral...|            0|            0|               0|      116881973|              -|              -|                 -|              -|                 -|              -|      339521289|                 -|       36156111|              -|              -|              -|                 -|       29550672|              -|              -|      249623653|              -|                 -|              -|      306057231|                 -|              -|              -|              -|      823220133|                 -|              -|              -|              -|      146253279|              -|              -|              -|                 -|                 -|      334194113|              -|              -|              -|              -|              -|              -|                 -|      831924462|              -|              -|     1708636182|                 -|              -|              -|              -|     4373506898|                 -|              -|\n",
      "|d8156bae0c4243d37...|   25000|           Bank| 2013-14|Parshwanath Bhakt...|        N|   BJP|Others|          0| 9295525996|          0|          0|             0|            0|         8782|            0|            0|               0|               0.0|1058474.8344340697|        0.0|               0.0|              0.0|          0|  500000000|          0|          0|             0|                   0|General Electoral...|            0|            0|               0|      116881973|              -|              -|                 -|              -|                 -|              -|      339521289|                 -|       36156111|              -|              -|              -|                 -|       29550672|              -|              -|      249623653|              -|                 -|              -|      306057231|                 -|              -|              -|              -|      823220133|                 -|              -|              -|              -|      146253279|              -|              -|              -|                 -|                 -|      334194113|              -|              -|              -|              -|              -|              -|                 -|      831924462|              -|              -|     1708636182|                 -|              -|              -|              -|     4373506898|                 -|              -|\n",
      "|15c64efe58b209e20...|  100000|         Others| 2011-12|Anand Constructio...|        Y|   BJP|Others|          0| 9295525996|          0|          0|             0|            0|         8782|            0|            0|               0|               0.0|1058474.8344340697|        0.0|               0.0|              0.0|          0|  500000000|          0|          0|             0|                   0|General Electoral...|            0|            0|               0|      116881973|              -|              -|                 -|              -|                 -|              -|      339521289|                 -|       36156111|              -|              -|              -|                 -|       29550672|              -|              -|      249623653|              -|                 -|              -|      306057231|                 -|              -|              -|              -|      823220133|                 -|              -|              -|              -|      146253279|              -|              -|              -|                 -|                 -|      334194113|              -|              -|              -|              -|              -|              -|                 -|      831924462|              -|              -|     1708636182|                 -|              -|              -|              -|     4373506898|                 -|              -|\n",
      "|c8087c832dde2a1c4...|   54000|           Bank| 2013-14|       Kamal Kashore|        N|   INC|Others| 4031487349|          0|          0|          0|             0|         3785|            0|            0|            0|               0|1065122.1529722589|               0.0|        0.0|               0.0|              0.0|  500000000|          0|          0|          0|             0|General Electoral...|                   0|            0|            0|               0|              -|              -|       28301101|                 -|      320555643|                 -|              -|              -|                 -|              -|       59212492|              -|      121273513|                 -|              -|              -|              -|              -|              -|                 -|       78873451|              -|                 -|              -|              -|      279018460|              -|                 -|              -|              -|      840521238|              -|              -|       80205884|              -|                 -|                 -|              -|              -|       95910664|              -|              -|              -|      117166225|                 -|              -|      595837728|              -|              -|                 -|              -|     1414610950|              -|              -|                 -|              -|\n",
      "|9f2ba6981e36ea0fc...|  100000|           Bank| 2004-05|          R.V Pandit|        N|   BJP|Others|          0| 9295525996|          0|          0|             0|            0|         8782|            0|            0|               0|               0.0|1058474.8344340697|        0.0|               0.0|              0.0|          0|  500000000|          0|          0|             0|                   0|General Electoral...|            0|            0|               0|      116881973|              -|              -|                 -|              -|                 -|              -|      339521289|                 -|       36156111|              -|              -|              -|                 -|       29550672|              -|              -|      249623653|              -|                 -|              -|      306057231|                 -|              -|              -|              -|      823220133|                 -|              -|              -|              -|      146253279|              -|              -|              -|                 -|                 -|      334194113|              -|              -|              -|              -|              -|              -|                 -|      831924462|              -|              -|     1708636182|                 -|              -|              -|              -|     4373506898|                 -|              -|\n",
      "|d8156bae0c4243d37...|  100000|         Others| 2012-13|      A & T Infracon|        N|   BJP|Others|          0| 9295525996|          0|          0|             0|            0|         8782|            0|            0|               0|               0.0|1058474.8344340697|        0.0|               0.0|              0.0|          0|  500000000|          0|          0|             0|                   0|General Electoral...|            0|            0|               0|      116881973|              -|              -|                 -|              -|                 -|              -|      339521289|                 -|       36156111|              -|              -|              -|                 -|       29550672|              -|              -|      249623653|              -|                 -|              -|      306057231|                 -|              -|              -|              -|      823220133|                 -|              -|              -|              -|      146253279|              -|              -|              -|                 -|                 -|      334194113|              -|              -|              -|              -|              -|              -|                 -|      831924462|              -|              -|     1708636182|                 -|              -|              -|              -|     4373506898|                 -|              -|\n",
      "|9ed075605230cbb74...|  300000|         Cheque| 2008-09|A 2 Z online  Ser...|        N|   BJP|Others|          0| 9295525996|          0|          0|             0|            0|         8782|            0|            0|               0|               0.0|1058474.8344340697|        0.0|               0.0|              0.0|          0|  500000000|          0|          0|             0|                   0|General Electoral...|            0|            0|               0|      116881973|              -|              -|                 -|              -|                 -|              -|      339521289|                 -|       36156111|              -|              -|              -|                 -|       29550672|              -|              -|      249623653|              -|                 -|              -|      306057231|                 -|              -|              -|              -|      823220133|                 -|              -|              -|              -|      146253279|              -|              -|              -|                 -|                 -|      334194113|              -|              -|              -|              -|              -|              -|                 -|      831924462|              -|              -|     1708636182|                 -|              -|              -|              -|     4373506898|                 -|              -|\n",
      "|4bc59ca1c387bfd59...|  200000|         Cheque| 2008-09|A 2 Z online  Ser...|        N|   BJP|Others|          0| 9295525996|          0|          0|             0|            0|         8782|            0|            0|               0|               0.0|1058474.8344340697|        0.0|               0.0|              0.0|          0|  500000000|          0|          0|             0|                   0|General Electoral...|            0|            0|               0|      116881973|              -|              -|                 -|              -|                 -|              -|      339521289|                 -|       36156111|              -|              -|              -|                 -|       29550672|              -|              -|      249623653|              -|                 -|              -|      306057231|                 -|              -|              -|              -|      823220133|                 -|              -|              -|              -|      146253279|              -|              -|              -|                 -|                 -|      334194113|              -|              -|              -|              -|              -|              -|                 -|      831924462|              -|              -|     1708636182|                 -|              -|              -|              -|     4373506898|                 -|              -|\n",
      "|4bc59ca1c387bfd59...|  200000|         Cheque| 2008-09|A 2 Z online  Ser...|        N|   BJP|Others|          0| 9295525996|          0|          0|             0|            0|         8782|            0|            0|               0|               0.0|1058474.8344340697|        0.0|               0.0|              0.0|          0|  500000000|          0|          0|             0|                   0|General Electoral...|            0|            0|               0|      116881973|              -|              -|                 -|              -|                 -|              -|      339521289|                 -|       36156111|              -|              -|              -|                 -|       29550672|              -|              -|      249623653|              -|                 -|              -|      306057231|                 -|              -|              -|              -|      823220133|                 -|              -|              -|              -|      146253279|              -|              -|              -|                 -|                 -|      334194113|              -|              -|              -|              -|              -|              -|                 -|      831924462|              -|              -|     1708636182|                 -|              -|              -|              -|     4373506898|                 -|              -|\n",
      "|d8156bae0c4243d37...|  125000|           Bank| 2012-13|A B Rolling Mills...|        N|   BJP|Others|          0| 9295525996|          0|          0|             0|            0|         8782|            0|            0|               0|               0.0|1058474.8344340697|        0.0|               0.0|              0.0|          0|  500000000|          0|          0|             0|                   0|General Electoral...|            0|            0|               0|      116881973|              -|              -|                 -|              -|                 -|              -|      339521289|                 -|       36156111|              -|              -|              -|                 -|       29550672|              -|              -|      249623653|              -|                 -|              -|      306057231|                 -|              -|              -|              -|      823220133|                 -|              -|              -|              -|      146253279|              -|              -|              -|                 -|                 -|      334194113|              -|              -|              -|              -|              -|              -|                 -|      831924462|              -|              -|     1708636182|                 -|              -|              -|              -|     4373506898|                 -|              -|\n",
      "|a68f3334fbfbdf18b...|  100000|           Bank| 2011-12|           A C Dixit|        N|   BJP|Others|          0| 9295525996|          0|          0|             0|            0|         8782|            0|            0|               0|               0.0|1058474.8344340697|        0.0|               0.0|              0.0|          0|  500000000|          0|          0|             0|                   0|General Electoral...|            0|            0|               0|      116881973|              -|              -|                 -|              -|                 -|              -|      339521289|                 -|       36156111|              -|              -|              -|                 -|       29550672|              -|              -|      249623653|              -|                 -|              -|      306057231|                 -|              -|              -|              -|      823220133|                 -|              -|              -|              -|      146253279|              -|              -|              -|                 -|                 -|      334194113|              -|              -|              -|              -|              -|              -|                 -|      831924462|              -|              -|     1708636182|                 -|              -|              -|              -|     4373506898|                 -|              -|\n",
      "|e9552141c8f9ab365...|  100000|           Bank| 2014-15|        A D Builders|        Y|   BJP|Others|          0| 9295525996|          0|          0|             0|            0|         8782|            0|            0|               0|               0.0|1058474.8344340697|        0.0|               0.0|              0.0|          0|  500000000|          0|          0|             0|                   0|General Electoral...|            0|            0|               0|      116881973|              -|              -|                 -|              -|                 -|              -|      339521289|                 -|       36156111|              -|              -|              -|                 -|       29550672|              -|              -|      249623653|              -|                 -|              -|      306057231|                 -|              -|              -|              -|      823220133|                 -|              -|              -|              -|      146253279|              -|              -|              -|                 -|                 -|      334194113|              -|              -|              -|              -|              -|              -|                 -|      831924462|              -|              -|     1708636182|                 -|              -|              -|              -|     4373506898|                 -|              -|\n",
      "|d8156bae0c4243d37...|   21000|         Others| 2012-13|               A Fox|        N|   BJP|Others|          0| 9295525996|          0|          0|             0|            0|         8782|            0|            0|               0|               0.0|1058474.8344340697|        0.0|               0.0|              0.0|          0|  500000000|          0|          0|             0|                   0|General Electoral...|            0|            0|               0|      116881973|              -|              -|                 -|              -|                 -|              -|      339521289|                 -|       36156111|              -|              -|              -|                 -|       29550672|              -|              -|      249623653|              -|                 -|              -|      306057231|                 -|              -|              -|              -|      823220133|                 -|              -|              -|              -|      146253279|              -|              -|              -|                 -|                 -|      334194113|              -|              -|              -|              -|              -|              -|                 -|      831924462|              -|              -|     1708636182|                 -|              -|              -|              -|     4373506898|                 -|              -|\n",
      "|6f87e5d7cdf08271c...|  100000|         Cheque| 2009-10|A Mahendra Jewellers|        Y|   INC|Others| 4031487349|          0|          0|          0|             0|         3785|            0|            0|            0|               0|1065122.1529722589|               0.0|        0.0|               0.0|              0.0|  500000000|          0|          0|          0|             0|General Electoral...|                   0|            0|            0|               0|              -|              -|       28301101|                 -|      320555643|                 -|              -|              -|                 -|              -|       59212492|              -|      121273513|                 -|              -|              -|              -|              -|              -|                 -|       78873451|              -|                 -|              -|              -|      279018460|              -|                 -|              -|              -|      840521238|              -|              -|       80205884|              -|                 -|                 -|              -|              -|       95910664|              -|              -|              -|      117166225|                 -|              -|      595837728|              -|              -|                 -|              -|     1414610950|              -|              -|                 -|              -|\n",
      "+--------------------+--------+---------------+--------+--------------------+---------+------+------+-----------+-----------+-----------+-----------+--------------+-------------+-------------+-------------+-------------+----------------+------------------+------------------+-----------+------------------+-----------------+-----------+-----------+-----------+-----------+--------------+--------------------+--------------------+-------------+-------------+----------------+---------------+---------------+---------------+------------------+---------------+------------------+---------------+---------------+------------------+---------------+---------------+---------------+---------------+------------------+---------------+---------------+---------------+---------------+---------------+------------------+---------------+---------------+------------------+---------------+---------------+---------------+---------------+------------------+---------------+---------------+---------------+---------------+---------------+---------------+---------------+------------------+------------------+---------------+---------------+---------------+---------------+---------------+---------------+---------------+------------------+---------------+---------------+---------------+---------------+------------------+---------------+---------------+---------------+---------------+------------------+---------------+\n",
      "only showing top 20 rows\n",
      "\n"
     ]
    }
   ],
   "source": [
    "for row in x.collect():\n",
    "    name = row[1] + \"_\" + row[0] + \"_\" + \"SUM\"\n",
    "    df = df.withColumn(name,lit('-'))\n",
    "    df = df.withColumn(name, when(col(\"Party\") == row[0], row[2])\n",
    "    .otherwise('-'))\n",
    "df.show()"
   ]
  },
  {
   "cell_type": "code",
   "execution_count": 102,
   "metadata": {},
   "outputs": [
    {
     "name": "stdout",
     "output_type": "stream",
     "text": [
      "+---------------+-----+\n",
      "|mode_of_payment|count|\n",
      "+---------------+-----+\n",
      "|           Bank| 7338|\n",
      "|         Cheque| 2781|\n",
      "|           Cash|  918|\n",
      "|         Others| 2536|\n",
      "+---------------+-----+\n",
      "\n"
     ]
    }
   ],
   "source": [
    "y = df.groupBy('mode_of_payment').count()\n",
    "y.show()"
   ]
  },
  {
   "cell_type": "code",
   "execution_count": 105,
   "metadata": {},
   "outputs": [
    {
     "name": "stdout",
     "output_type": "stream",
     "text": [
      "+---------------+--------------+----------------+--------------+----------------+\n",
      "|mode_of_payment|BANK_COUNT_LTD|CHEQUE_COUNT_LTD|CASH_COUNT_LTD|OTHERS_COUNT_LTD|\n",
      "+---------------+--------------+----------------+--------------+----------------+\n",
      "|           Cash|             -|               -|           918|               -|\n",
      "|           Bank|          7338|               -|             -|               -|\n",
      "|         Cheque|             -|            2781|             -|               -|\n",
      "|           Bank|          7338|               -|             -|               -|\n",
      "|           Bank|          7338|               -|             -|               -|\n",
      "|         Others|             -|               -|             -|            2536|\n",
      "|         Others|             -|               -|             -|            2536|\n",
      "|           Bank|          7338|               -|             -|               -|\n",
      "|         Others|             -|               -|             -|            2536|\n",
      "|           Bank|          7338|               -|             -|               -|\n",
      "|           Bank|          7338|               -|             -|               -|\n",
      "|         Others|             -|               -|             -|            2536|\n",
      "|         Cheque|             -|            2781|             -|               -|\n",
      "|         Cheque|             -|            2781|             -|               -|\n",
      "|         Cheque|             -|            2781|             -|               -|\n",
      "|           Bank|          7338|               -|             -|               -|\n",
      "|           Bank|          7338|               -|             -|               -|\n",
      "|           Bank|          7338|               -|             -|               -|\n",
      "|         Others|             -|               -|             -|            2536|\n",
      "|         Cheque|             -|            2781|             -|               -|\n",
      "+---------------+--------------+----------------+--------------+----------------+\n",
      "only showing top 20 rows\n",
      "\n"
     ]
    }
   ],
   "source": [
    "for row in y.collect():\n",
    "    name = row[0] + \"_COUNT_LTD\"\n",
    "    df = df.withColumn(name,lit('-'))\n",
    "    df = df.withColumn(name, when(col(\"mode_of_payment\") == row[0], row[1])\n",
    "    .otherwise('-'))\n",
    "\n",
    "df.select(\"mode_of_payment\",\"BANK_COUNT_LTD\",\"CHEQUE_COUNT_LTD\",\"CASH_COUNT_LTD\",\"OTHERS_COUNT_LTD\").show()"
   ]
  },
  {
   "cell_type": "code",
   "execution_count": null,
   "metadata": {},
   "outputs": [],
   "source": []
  }
 ],
 "metadata": {
  "kernelspec": {
   "display_name": "Python 3.9.13 64-bit",
   "language": "python",
   "name": "python3"
  },
  "language_info": {
   "codemirror_mode": {
    "name": "ipython",
    "version": 3
   },
   "file_extension": ".py",
   "mimetype": "text/x-python",
   "name": "python",
   "nbconvert_exporter": "python",
   "pygments_lexer": "ipython3",
   "version": "3.9.13"
  },
  "orig_nbformat": 4,
  "vscode": {
   "interpreter": {
    "hash": "53ce35e862515eb586eae41fd1304deab3fd4baca00d7c7e0ee16cf749403b84"
   }
  }
 },
 "nbformat": 4,
 "nbformat_minor": 2
}
